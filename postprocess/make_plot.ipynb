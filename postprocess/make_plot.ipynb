import pandas as pd

# Load the CSV file
file_path = 'Res-SFH-4a - Site CO2 Hungary.csv'
df = pd.read_csv(file_path)

# Melt the DataFrame to convert the specified columns into one column
melted_df = df.melt(id_vars=['Time'], value_vars=['Present Case', 'Renovation: Envelope', 'Renovation: Envelope + ASHP'], 
                    var_name='Scenario', value_name='Value')

# Display the first few rows of the processed DataFrame
melted_df.head()
